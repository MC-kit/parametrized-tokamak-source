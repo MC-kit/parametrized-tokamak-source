{
 "cells": [
  {
   "cell_type": "code",
   "execution_count": 19,
   "metadata": {},
   "outputs": [],
   "source": [
    "import parametrized_tokamak_source.parametrized_tokamak_source as pts"
   ]
  },
  {
   "cell_type": "code",
   "execution_count": 24,
   "metadata": {},
   "outputs": [],
   "source": [
    "plasma_params = pts.do.PlasmaParams.from_file('../src/parametrized_tokamak_source/data/iter-parametrization.csv')"
   ]
  },
  {
   "cell_type": "code",
   "execution_count": 28,
   "metadata": {},
   "outputs": [],
   "source": [
    "my_plasma = pts.make_openmc_sources(plasma_params=plasma_params, sample_size=1000, intensity=pts.IntensityDD(plasma_params))"
   ]
  },
  {
   "cell_type": "code",
   "execution_count": 69,
   "metadata": {},
   "outputs": [],
   "source": [
    "import openmc\n",
    "# Create a single material\n",
    "iron = openmc.Material()\n",
    "iron.set_density(\"g/cm3\", 5.0)\n",
    "iron.add_element(\"Fe\", 1.0)\n",
    "mats = openmc.Materials([iron])\n",
    "\n",
    "# Create a 5 cm x 5 cm box filled with iron\n",
    "cells = []\n",
    "inner_box1 = openmc.ZCylinder(r=600.0)\n",
    "inner_box2 = openmc.ZCylinder(r=1400.0)\n",
    "outer_box = openmc.model.rectangular_prism(4000.0, 4000.0, boundary_type=\"vacuum\")\n",
    "cells += [openmc.Cell(fill=iron, region=-inner_box1)]\n",
    "cells += [openmc.Cell(fill=None, region=+inner_box1 & -inner_box2)]\n",
    "cells += [openmc.Cell(fill=iron, region=+inner_box2 & outer_box)]\n",
    "geometry = openmc.Geometry(cells)\n",
    "\n",
    "# Tell OpenMC we're going to use our custom source\n",
    "settings = openmc.Settings()\n",
    "settings.run_mode = \"fixed source\"\n",
    "settings.batches = 10\n",
    "settings.particles = 10000\n",
    "settings.source = my_plasma\n",
    "\n",
    "# Finally, define a mesh tally so that we can see the resulting flux\n",
    "mesh = openmc.RegularMesh()\n",
    "mesh.lower_left = (-2000.0, -2000.0)\n",
    "mesh.upper_right = (2000.0, 2000.0)\n",
    "mesh.dimension = (4000, 4000)\n",
    "\n",
    "tally = openmc.Tally()\n",
    "tally.filters = [openmc.MeshFilter(mesh)]\n",
    "tally.scores = [\"flux\"]\n",
    "tallies = openmc.Tallies([tally])\n",
    "\n",
    "model = openmc.model.Model(\n",
    "    materials=mats, geometry=geometry, settings=settings, tallies=tallies\n",
    ")\n",
    "\n",
    "#settings.export_to_xml()\n",
    "#model.run(tracks=True)"
   ]
  }
 ],
 "metadata": {
  "kernelspec": {
   "display_name": "Python 3 (ipykernel)",
   "language": "python",
   "name": "python3"
  },
  "language_info": {
   "codemirror_mode": {
    "name": "ipython",
    "version": 3
   },
   "file_extension": ".py",
   "mimetype": "text/x-python",
   "name": "python",
   "nbconvert_exporter": "python",
   "pygments_lexer": "ipython3",
   "version": "3.12.1"
  }
 },
 "nbformat": 4,
 "nbformat_minor": 4
}
